{
  "cells": [
    {
      "cell_type": "markdown",
      "metadata": {
        "id": "view-in-github",
        "colab_type": "text"
      },
      "source": [
        "<a href=\"https://colab.research.google.com/github/AlbertoMorales2001/Examen-Parcial-Sabatin0/blob/main/Untitled2.ipynb\" target=\"_parent\"><img src=\"https://colab.research.google.com/assets/colab-badge.svg\" alt=\"Open In Colab\"/></a>"
      ]
    },
    {
      "cell_type": "code",
      "execution_count": 48,
      "metadata": {
        "id": "UBVHJKV54iiF"
      },
      "outputs": [],
      "source": [
        "#Examen medio curso:Media y desviacion , Nombre: Alberto Alan Morales Cavazos, Matricula:1861425, Hora:N1-N3"
      ]
    },
    {
      "cell_type": "code",
      "execution_count": 49,
      "metadata": {
        "id": "ip4M7hIp1ekq"
      },
      "outputs": [],
      "source": [
        "#1Programa para media y desviacion \n",
        "\n",
        "from math import sqrt\n",
        "\n",
        "def desviacion_estandar(valores, media):\n",
        "  suma = 0\n",
        "  for valor in valores :\n",
        "    suma += valor - media ** 2\n",
        "    raiz = suma/len(valores) - 1\n",
        "\n",
        "    return sqrt(raiz)\n",
        "\n",
        "\n",
        "def calcular_media(valores):\n",
        "    suma = 0\n",
        "\n",
        "    for valor in valores:\n",
        "      suma+=valor\n",
        "\n",
        "      return suma/(len(valores))\n",
        "\n",
        "\n",
        "      if __name__ == \"__main__\":\n",
        "        numeros = [160, 591, 114, 229, 230, 270, 128, 1657, 624, 1503]\n",
        "\n",
        "        media = calcular_media(numeros)\n",
        "\n",
        "        resultado= desviacion_estandar(numeros, media)\n",
        "\n",
        "        print('la desviacion estandar es:{}'.format(resultado))"
      ]
    }
  ],
  "metadata": {
    "colab": {
      "collapsed_sections": [],
      "provenance": [],
      "authorship_tag": "ABX9TyN5IIx7dcZcXr1lh9PaAM/v",
      "include_colab_link": true
    },
    "kernelspec": {
      "display_name": "Python 3",
      "name": "python3"
    },
    "language_info": {
      "name": "python"
    }
  },
  "nbformat": 4,
  "nbformat_minor": 0
}