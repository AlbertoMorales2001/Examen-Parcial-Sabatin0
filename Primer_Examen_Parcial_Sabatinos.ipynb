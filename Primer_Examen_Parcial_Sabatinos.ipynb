{
  "nbformat": 4,
  "nbformat_minor": 0,
  "metadata": {
    "colab": {
      "name": "Untitled0.ipynb",
      "provenance": [],
      "authorship_tag": "ABX9TyNpQM2P0s+svsQvcOxYSBQB",
      "include_colab_link": true
    },
    "kernelspec": {
      "name": "python3",
      "display_name": "Python 3"
    },
    "language_info": {
      "name": "python"
    }
  },
  "cells": [
    {
      "cell_type": "markdown",
      "metadata": {
        "id": "view-in-github",
        "colab_type": "text"
      },
      "source": [
        "<a href=\"https://colab.research.google.com/github/AlbertoMorales2001/Examen-Parcial-Sabatin0/blob/main/Primer_Examen_Parcial_Sabatinos.ipynb\" target=\"_parent\"><img src=\"https://colab.research.google.com/assets/colab-badge.svg\" alt=\"Open In Colab\"/></a>"
      ]
    },
    {
      "cell_type": "code",
      "execution_count": 11,
      "metadata": {
        "colab": {
          "base_uri": "https://localhost:8080/"
        },
        "id": "BidBzbCxbAEg",
        "outputId": "4254be45-a388-44d3-f4a7-df0fc7d80a79"
      },
      "outputs": [
        {
          "output_type": "stream",
          "name": "stdout",
          "text": [
            "Ingrese cualquier numero456\n",
            "La sumatoria de los numeros desde el 1 hasta el numero dado es: 104196\n"
          ]
        }
      ],
      "source": [
        "#Alberto Alan Morales Cavazos 1861425 \n",
        "numero_inicial = int(input(\"Ingrese cualquier numero\"))\n",
        "sumatoria=0\n",
        "for numero in range(numero_inicial):\n",
        " sumatoria=sumatoria+(numero + 1)\n",
        "print(\"La sumatoria de los numeros desde el 1 hasta el numero dado es:\",sumatoria)\n"
      ]
    },
    {
      "cell_type": "code",
      "source": [
        ""
      ],
      "metadata": {
        "id": "zjs6UplJhrio"
      },
      "execution_count": null,
      "outputs": []
    },
    {
      "cell_type": "code",
      "source": [
        ""
      ],
      "metadata": {
        "id": "yBtsxDUVh1cb"
      },
      "execution_count": null,
      "outputs": []
    },
    {
      "cell_type": "code",
      "source": [
        ""
      ],
      "metadata": {
        "id": "1Ppl0_zniRPM"
      },
      "execution_count": null,
      "outputs": []
    },
    {
      "cell_type": "code",
      "source": [
        ""
      ],
      "metadata": {
        "id": "sLb7QSHniR-S"
      },
      "execution_count": null,
      "outputs": []
    },
    {
      "cell_type": "code",
      "source": [
        ""
      ],
      "metadata": {
        "id": "VzP-SnMdiSi4"
      },
      "execution_count": null,
      "outputs": []
    }
  ]
}