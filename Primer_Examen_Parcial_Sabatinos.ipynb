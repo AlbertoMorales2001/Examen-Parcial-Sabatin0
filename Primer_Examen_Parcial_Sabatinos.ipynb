{
  "nbformat": 4,
  "nbformat_minor": 0,
  "metadata": {
    "colab": {
      "name": "Untitled0.ipynb",
      "provenance": [],
      "authorship_tag": "ABX9TyMJdbCe/UnTms3E7ojFDrCt",
      "include_colab_link": true
    },
    "kernelspec": {
      "name": "python3",
      "display_name": "Python 3"
    },
    "language_info": {
      "name": "python"
    }
  },
  "cells": [
    {
      "cell_type": "markdown",
      "metadata": {
        "id": "view-in-github",
        "colab_type": "text"
      },
      "source": [
        "<a href=\"https://colab.research.google.com/github/AlbertoMorales2001/Examen-Parcial-Sabatin0/blob/main/Primer_Examen_Parcial_Sabatinos.ipynb\" target=\"_parent\"><img src=\"https://colab.research.google.com/assets/colab-badge.svg\" alt=\"Open In Colab\"/></a>"
      ]
    },
    {
      "cell_type": "code",
      "execution_count": 2,
      "metadata": {
        "colab": {
          "base_uri": "https://localhost:8080/"
        },
        "id": "BidBzbCxbAEg",
        "outputId": "bdff2952-898b-4662-8c3c-622ce013eef7"
      },
      "outputs": [
        {
          "output_type": "stream",
          "name": "stdout",
          "text": [
            "Ingrese cualquier numero32\n",
            "La sumatoria de los numeros desde el 1 hasta el numero dado es: 1\n",
            "La sumatoria de los numeros desde el 1 hasta el numero dado es: 3\n",
            "La sumatoria de los numeros desde el 1 hasta el numero dado es: 6\n",
            "La sumatoria de los numeros desde el 1 hasta el numero dado es: 10\n",
            "La sumatoria de los numeros desde el 1 hasta el numero dado es: 15\n",
            "La sumatoria de los numeros desde el 1 hasta el numero dado es: 21\n",
            "La sumatoria de los numeros desde el 1 hasta el numero dado es: 28\n",
            "La sumatoria de los numeros desde el 1 hasta el numero dado es: 36\n",
            "La sumatoria de los numeros desde el 1 hasta el numero dado es: 45\n",
            "La sumatoria de los numeros desde el 1 hasta el numero dado es: 55\n",
            "La sumatoria de los numeros desde el 1 hasta el numero dado es: 66\n",
            "La sumatoria de los numeros desde el 1 hasta el numero dado es: 78\n",
            "La sumatoria de los numeros desde el 1 hasta el numero dado es: 91\n",
            "La sumatoria de los numeros desde el 1 hasta el numero dado es: 105\n",
            "La sumatoria de los numeros desde el 1 hasta el numero dado es: 120\n",
            "La sumatoria de los numeros desde el 1 hasta el numero dado es: 136\n",
            "La sumatoria de los numeros desde el 1 hasta el numero dado es: 153\n",
            "La sumatoria de los numeros desde el 1 hasta el numero dado es: 171\n",
            "La sumatoria de los numeros desde el 1 hasta el numero dado es: 190\n",
            "La sumatoria de los numeros desde el 1 hasta el numero dado es: 210\n",
            "La sumatoria de los numeros desde el 1 hasta el numero dado es: 231\n",
            "La sumatoria de los numeros desde el 1 hasta el numero dado es: 253\n",
            "La sumatoria de los numeros desde el 1 hasta el numero dado es: 276\n",
            "La sumatoria de los numeros desde el 1 hasta el numero dado es: 300\n",
            "La sumatoria de los numeros desde el 1 hasta el numero dado es: 325\n",
            "La sumatoria de los numeros desde el 1 hasta el numero dado es: 351\n",
            "La sumatoria de los numeros desde el 1 hasta el numero dado es: 378\n",
            "La sumatoria de los numeros desde el 1 hasta el numero dado es: 406\n",
            "La sumatoria de los numeros desde el 1 hasta el numero dado es: 435\n",
            "La sumatoria de los numeros desde el 1 hasta el numero dado es: 465\n",
            "La sumatoria de los numeros desde el 1 hasta el numero dado es: 496\n",
            "La sumatoria de los numeros desde el 1 hasta el numero dado es: 528\n"
          ]
        }
      ],
      "source": [
        "#Alberto Alan Morales Cavazos 1861425 \n",
        "numero_inicial=int(input(\"Ingrese cualquier numero\"))\n",
        "sumatoria=0\n",
        "for numero in range(numero_inicial):\n",
        "  sumatoria=sumatoria+(numero+1)\n",
        "  print(\"La sumatoria de los numeros desde el 1 hasta el numero dado es:\",sumatoria)\n"
      ]
    },
    {
      "cell_type": "code",
      "source": [
        ""
      ],
      "metadata": {
        "id": "zjs6UplJhrio"
      },
      "execution_count": null,
      "outputs": []
    },
    {
      "cell_type": "code",
      "source": [
        ""
      ],
      "metadata": {
        "id": "yBtsxDUVh1cb"
      },
      "execution_count": null,
      "outputs": []
    },
    {
      "cell_type": "code",
      "source": [
        ""
      ],
      "metadata": {
        "id": "1Ppl0_zniRPM"
      },
      "execution_count": null,
      "outputs": []
    },
    {
      "cell_type": "code",
      "source": [
        ""
      ],
      "metadata": {
        "id": "sLb7QSHniR-S"
      },
      "execution_count": null,
      "outputs": []
    },
    {
      "cell_type": "code",
      "source": [
        ""
      ],
      "metadata": {
        "id": "VzP-SnMdiSi4"
      },
      "execution_count": null,
      "outputs": []
    }
  ]
}